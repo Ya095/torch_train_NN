{
 "cells": [
  {
   "cell_type": "code",
   "execution_count": 15,
   "id": "80f59044-57bf-4986-8a4a-7a68148a2fe1",
   "metadata": {},
   "outputs": [],
   "source": [
    "import torch\n",
    "import torch.nn as nn \n",
    "import torch.nn.functional as F\n",
    "import torchvision as tv\n",
    "\n",
    "from torch.cuda.amp import GradScaler, autocast\n",
    "\n",
    "import os\n",
    "import numpy as np\n",
    "import cv2\n",
    "import matplotlib.pyplot as plt\n",
    "from tqdm import tqdm"
   ]
  },
  {
   "cell_type": "code",
   "execution_count": 23,
   "id": "ebd60b4d-dd39-46c6-bb44-bafc0d0ed18c",
   "metadata": {},
   "outputs": [],
   "source": [
    "# Создание класса для кастомного датасета\n",
    "# 2 класса (коты/собаки)\n",
    "\n",
    "class Dataset2Class(torch.utils.data.Dataset):\n",
    "    def __init__(self, path_dir1: str, path_dir2: str):\n",
    "        super().__init__()\n",
    "        \n",
    "        self.path_dir1 = path_dir1\n",
    "        self.path_dir2 = path_dir2\n",
    "        \n",
    "        self.dir1_list = sorted(os.listdir(self.path_dir1))\n",
    "        self.dir2_list = sorted(os.listdir(self.path_dir2))\n",
    "        \n",
    "    def __len__(self):\n",
    "        return len(self.dir1_list) + len(self.dir2_list)\n",
    "        \n",
    "    def __getitem__(self, index):\n",
    "        if index < len(self.dir1_list):\n",
    "            class_id = 0 \n",
    "            img_path = os.path.join(self.path_dir1, self.dir1_list[index])\n",
    "        else:\n",
    "            class_id = 1\n",
    "            index -= len(self.dir1_list)\n",
    "            img_path = os.path.join(self.path_dir2, self.dir2_list[index])\n",
    "        \n",
    "        img = cv2.imread(img_path, cv2.IMREAD_COLOR)\n",
    "        img = cv2.cvtColor(img, cv2.COLOR_BGR2RGB)\n",
    "        img = img.astype(np.float32)        \n",
    "        img /= 255.0\n",
    "        \n",
    "        img = cv2.resize(img, (128, 128), interpolation=cv2.INTER_AREA)\n",
    "        img = img.transpose((2, 0, 1))\n",
    "        \n",
    "        \n",
    "        t_img = torch.from_numpy(img)\n",
    "        t_class_id = torch.tensor([class_id])\n",
    "        \n",
    "        return {\"img\": t_img, \"label\": t_class_id}\n",
    "    "
   ]
  },
  {
   "cell_type": "code",
   "execution_count": 24,
   "id": "3da7e4d0-b8ae-470a-8e99-a68e95477bf4",
   "metadata": {},
   "outputs": [],
   "source": [
    "# Загрузка локальных путей к картинкам и превращение в датасет\n",
    "\n",
    "train_dogs_path = \"../cats_dogs_dataset/training_set/dogs/\"\n",
    "train_cats_path = \"../cats_dogs_dataset/training_set/cats/\"\n",
    "\n",
    "test_dogs_path = \"../cats_dogs_dataset/test_set/dogs/\"\n",
    "test_cats_path = \"../cats_dogs_dataset/test_set/cats/\"\n",
    "\n",
    "train_dataset = Dataset2Class(train_dogs_path, train_cats_path)\n",
    "test_dataset = Dataset2Class(test_dogs_path, test_cats_path)"
   ]
  },
  {
   "cell_type": "code",
   "execution_count": 68,
   "id": "12b59c62-f525-48ef-9c98-faa90c858ce8",
   "metadata": {},
   "outputs": [],
   "source": [
    "# Задаем dataloader\n",
    "\n",
    "batch_size = 32\n",
    "train_dataloader = torch.utils.data.DataLoader(\n",
    "    dataset=train_dataset,\n",
    "    batch_size=batch_size,\n",
    "    num_workers=0,\n",
    "    shuffle=True,\n",
    "    drop_last=True\n",
    ")\n",
    "\n",
    "test_dataloader = torch.utils.data.DataLoader(\n",
    "    test_dataset,\n",
    "    batch_size=batch_size,\n",
    "    num_workers=0,\n",
    "    shuffle=True,\n",
    "    drop_last=False\n",
    ")"
   ]
  },
  {
   "cell_type": "code",
   "execution_count": 69,
   "id": "76056578-8da1-4015-9ffd-d2e75d152ac7",
   "metadata": {},
   "outputs": [
    {
     "data": {
      "text/plain": [
       "8000"
      ]
     },
     "execution_count": 69,
     "metadata": {},
     "output_type": "execute_result"
    }
   ],
   "source": [
    "len(train_dataset)"
   ]
  },
  {
   "cell_type": "code",
   "execution_count": 70,
   "id": "7a4021e2-0709-438a-892c-f8dea4bab8af",
   "metadata": {},
   "outputs": [],
   "source": [
    "class ConvNet(nn.Module):\n",
    "    def __init__(self):\n",
    "        super().__init__()\n",
    "        \n",
    "        self.act = nn.LeakyReLU(0.2) # inplace=True для экономии памяти\n",
    "        self.maxpool = nn.MaxPool2d(kernel_size=(2,2),stride=2)\n",
    "        \n",
    "        self.conv0  = nn.Conv2d(3, 128, kernel_size=(3,3), stride=1, padding=0)\n",
    "        self.conv1  = nn.Conv2d(128, 128, kernel_size=(3,3), stride=1, padding=0)\n",
    "        self.conv2  = nn.Conv2d(128, 128, kernel_size=(3,3), stride=1, padding=0)\n",
    "        self.conv3  = nn.Conv2d(128, 256, kernel_size=(3,3), stride=1, padding=0)        \n",
    "        \n",
    "        self.adaptivepool = nn.AdaptiveAvgPool2d((1,1))\n",
    "        self.flatten = nn.Flatten()\n",
    "        self.linear1 = nn.Linear(256, 20)\n",
    "        self.linear2 = nn.Linear(20, 2)\n",
    "        \n",
    "    def forward(self, x):\n",
    "        out = self.conv0(x)\n",
    "        out = self.act(out)\n",
    "        out = self.maxpool(out)\n",
    "        \n",
    "        out = self.conv1(out)\n",
    "        out = self.act(out)\n",
    "        out = self.maxpool(out)\n",
    "        \n",
    "        out = self.conv2(out)\n",
    "        out = self.act(out)\n",
    "        out = self.maxpool(out)\n",
    "        \n",
    "        out = self.conv3(out)\n",
    "        out = self.act(out)\n",
    "        \n",
    "        out = self.adaptivepool(out)\n",
    "        out = self.flatten(out)\n",
    "        out = self.linear1(out)\n",
    "        out = self.act(out)\n",
    "        out = self.linear2(out)\n",
    "        \n",
    "        return out"
   ]
  },
  {
   "cell_type": "code",
   "execution_count": null,
   "id": "8a0a2b61-30cf-486a-b779-260c499d5395",
   "metadata": {},
   "outputs": [],
   "source": []
  },
  {
   "cell_type": "code",
   "execution_count": null,
   "id": "02e42439-b3e6-42d6-a71d-4a0f3c50c8a4",
   "metadata": {},
   "outputs": [],
   "source": []
  },
  {
   "cell_type": "code",
   "execution_count": null,
   "id": "dc53e444-8023-42f9-a3c4-c7dfad154452",
   "metadata": {},
   "outputs": [],
   "source": []
  },
  {
   "cell_type": "code",
   "execution_count": 118,
   "id": "811b6f8a-ce12-4a00-b93e-318765d8dde7",
   "metadata": {
    "tags": []
   },
   "outputs": [],
   "source": [
    "class ResBlock(nn.Module):\n",
    "    def __init__(self, nc):\n",
    "        super().__init__()\n",
    "        \n",
    "        self.conv0 = nn.Conv2d(nc, nc, kernel_size=3, padding=1)\n",
    "        self.norm0 = nn.BatchNorm2d(nc)\n",
    "        self.act = nn.LeakyReLU(0.2, inplace=True)\n",
    "        self.conv1 = nn.Conv2d(nc, nc, kernel_size=3, padding=1)\n",
    "        self.norm1 = nn.BatchNorm2d(nc)\n",
    "        \n",
    "        \n",
    "    def forward(self, x):\n",
    "        out = self.conv0(x)\n",
    "        out = self.norm0(out)\n",
    "        out = self.act(out)\n",
    "        out = self.conv1(out)\n",
    "        out = self.norm1(out)\n",
    "        \n",
    "        return self.act(x + out)\n",
    "    \n",
    "# Можно так же попробоать выход return x + out\n",
    "# или x + 0.2*out , но такое обычно используется при большом количестве слоев"
   ]
  },
  {
   "cell_type": "code",
   "execution_count": 119,
   "id": "92a0870d-7283-4fd5-bf44-5c4094106d3d",
   "metadata": {},
   "outputs": [],
   "source": [
    "class ResTruck(nn.Module):\n",
    "    def __init__(self, nc, num_blocks):\n",
    "        super().__init__()\n",
    "        \n",
    "        truck = []\n",
    "        for i in range(num_blocks):\n",
    "            truck += [ResBlock(nc)]\n",
    "            \n",
    "        self.truck = nn.Sequential(*truck)\n",
    "    \n",
    "    def forward(self, x):\n",
    "        return self.truck(x)"
   ]
  },
  {
   "cell_type": "code",
   "execution_count": 120,
   "id": "006924a7-e32b-4009-879b-de23cdd769d6",
   "metadata": {},
   "outputs": [],
   "source": [
    "class PsevdoResNet(nn.Module):\n",
    "    def __init__(self, in_nc, nc, out_nc):\n",
    "        super().__init__()\n",
    "        \n",
    "        self.conv0 = nn.Conv2d(in_nc, nc, kernel_size=7, stride=2)\n",
    "        self.act = nn.LeakyReLU(0.2, inplace=True)\n",
    "        self.maxpool = nn.MaxPool2d(2,2)\n",
    "        \n",
    "        self.layer1 = ResTruck(nc, 3)\n",
    "        self.conv1 = nn.Conv2d(nc, 2*nc, 3, padding=1, stride=2)\n",
    "        self.layer2 = ResTruck(2*nc, 4)\n",
    "        self.conv2 = nn.Conv2d(2*nc, 4*nc, 3, padding=1, stride=2)\n",
    "        self.layer3 = ResTruck(4*nc, 6)\n",
    "        self.conv3 = nn.Conv2d(4*nc, 4*nc, 3, padding=1, stride=2)\n",
    "        self.layer4 = ResTruck(4*nc, 3)\n",
    "\n",
    "        self.avgpool = nn.AdaptiveAvgPool2d((1,1))\n",
    "        self.flatten = nn.Flatten()\n",
    "        self.linear = nn.Linear(4*nc, out_nc)\n",
    "        \n",
    "    def forward(self, x):\n",
    "        out = self.conv0(x)\n",
    "        out = self.act(out)\n",
    "        out = self.maxpool(out)\n",
    "        out = self.layer1(out)\n",
    "        out = self.conv1(out)\n",
    "        out = self.layer2(out)\n",
    "        out = self.conv2(out)\n",
    "        out = self.layer3(out)\n",
    "        out = self.conv3(out)\n",
    "        out = self.layer4(out)\n",
    "\n",
    "        out = self.avgpool(out)\n",
    "        out = self.flatten(out)\n",
    "        out = self.linear(out)\n",
    "        \n",
    "        return out"
   ]
  },
  {
   "cell_type": "code",
   "execution_count": null,
   "id": "ec5069ad-40be-4284-a72b-10a7b43b502c",
   "metadata": {},
   "outputs": [],
   "source": []
  },
  {
   "cell_type": "code",
   "execution_count": 121,
   "id": "cbbdb77b-f6ce-4162-90d6-0cde75c20dde",
   "metadata": {},
   "outputs": [],
   "source": [
    "# model = ConvNet()\n",
    "model = PsevdoResNet(3, 32, 2)"
   ]
  },
  {
   "cell_type": "code",
   "execution_count": 122,
   "id": "a2fef9ff-5045-47b3-8fea-a86aa4c09e7f",
   "metadata": {},
   "outputs": [],
   "source": [
    "for sample in train_dataloader:\n",
    "    img = sample[\"img\"]\n",
    "    label = sample[\"label\"]\n",
    "    \n",
    "    model(img)\n",
    "    break"
   ]
  },
  {
   "cell_type": "code",
   "execution_count": 123,
   "id": "752269b8-2507-45c9-88a6-2845432741b5",
   "metadata": {},
   "outputs": [],
   "source": [
    "loss_fn = nn.CrossEntropyLoss()\n",
    "optimizer = torch.optim.Adam(model.parameters(), lr=0.001, betas=(0.9, 0.999))"
   ]
  },
  {
   "cell_type": "code",
   "execution_count": 129,
   "id": "a093b7b7-e6f5-449f-9ae7-7b272e85d27c",
   "metadata": {},
   "outputs": [],
   "source": [
    "def accuracy(pred, label):\n",
    "    answer = F.softmax(pred.detach()).numpy().argmax(1) == label.numpy().argmax(1)\n",
    "    return answer.mean()"
   ]
  },
  {
   "cell_type": "code",
   "execution_count": 125,
   "id": "23aaf7e1-7851-405d-bed6-ff1ba010c700",
   "metadata": {},
   "outputs": [
    {
     "name": "stderr",
     "output_type": "stream",
     "text": [
      "/Users/egoryakovlev/opt/anaconda3/lib/python3.9/site-packages/torch/cuda/amp/grad_scaler.py:118: UserWarning: torch.cuda.amp.GradScaler is enabled, but CUDA is not available.  Disabling.\n",
      "  warnings.warn(\"torch.cuda.amp.GradScaler is enabled, but CUDA is not available.  Disabling.\")\n"
     ]
    }
   ],
   "source": [
    "use_amp = True\n",
    "scaler = torch.cuda.amp.GradScaler() # только для GPU"
   ]
  },
  {
   "cell_type": "code",
   "execution_count": 126,
   "id": "55d57a61-eb10-4a94-b88e-cb24d70039cc",
   "metadata": {},
   "outputs": [],
   "source": [
    "torch.backends.cudnn.benchmark = True\n",
    "torch.backends.cudnn.deterministic = False"
   ]
  },
  {
   "cell_type": "code",
   "execution_count": 130,
   "id": "c0b26528-81b4-4d80-b5dd-e2987ad20fee",
   "metadata": {},
   "outputs": [
    {
     "name": "stderr",
     "output_type": "stream",
     "text": [
      "  0%|          | 0/250 [00:00<?, ?it/s]/var/folders/5f/qvq_31yx7gq6_br4st_jt1y80000gp/T/ipykernel_9197/1416373963.py:2: UserWarning: Implicit dimension choice for softmax has been deprecated. Change the call to include dim=X as an argument.\n",
      "  answer = F.softmax(pred.detach()).numpy().argmax(1) == label.numpy().argmax(1)\n",
      "loss: 0.62413/t accuracy: 0.594: 100%|██████████| 250/250 [01:48<00:00,  2.31it/s]\n"
     ]
    },
    {
     "name": "stdout",
     "output_type": "stream",
     "text": [
      "0.6788456764221191\n",
      "0.580125\n"
     ]
    },
    {
     "name": "stderr",
     "output_type": "stream",
     "text": [
      "loss: 0.64678/t accuracy: 0.656: 100%|██████████| 250/250 [01:46<00:00,  2.35it/s]\n"
     ]
    },
    {
     "name": "stdout",
     "output_type": "stream",
     "text": [
      "0.654201611995697\n",
      "0.621\n"
     ]
    },
    {
     "name": "stderr",
     "output_type": "stream",
     "text": [
      "loss: 0.55290/t accuracy: 0.719: 100%|██████████| 250/250 [01:49<00:00,  2.29it/s]\n"
     ]
    },
    {
     "name": "stdout",
     "output_type": "stream",
     "text": [
      "0.6335812602043152\n",
      "0.636125\n"
     ]
    },
    {
     "name": "stderr",
     "output_type": "stream",
     "text": [
      "loss: 0.66024/t accuracy: 0.750: 100%|██████████| 250/250 [01:50<00:00,  2.26it/s]\n"
     ]
    },
    {
     "name": "stdout",
     "output_type": "stream",
     "text": [
      "0.6113580302000046\n",
      "0.66275\n"
     ]
    },
    {
     "name": "stderr",
     "output_type": "stream",
     "text": [
      "loss: 0.55225/t accuracy: 0.781: 100%|██████████| 250/250 [01:50<00:00,  2.26it/s]\n"
     ]
    },
    {
     "name": "stdout",
     "output_type": "stream",
     "text": [
      "0.5743867887258529\n",
      "0.7015\n"
     ]
    },
    {
     "name": "stderr",
     "output_type": "stream",
     "text": [
      "loss: 0.44458/t accuracy: 0.844: 100%|██████████| 250/250 [01:52<00:00,  2.23it/s]\n"
     ]
    },
    {
     "name": "stdout",
     "output_type": "stream",
     "text": [
      "0.5413506006002426\n",
      "0.7335\n"
     ]
    },
    {
     "name": "stderr",
     "output_type": "stream",
     "text": [
      "loss: 0.40065/t accuracy: 0.781: 100%|██████████| 250/250 [01:49<00:00,  2.27it/s]\n"
     ]
    },
    {
     "name": "stdout",
     "output_type": "stream",
     "text": [
      "0.5043584195375442\n",
      "0.752375\n"
     ]
    },
    {
     "name": "stderr",
     "output_type": "stream",
     "text": [
      "loss: 0.45204/t accuracy: 0.812: 100%|██████████| 250/250 [01:48<00:00,  2.31it/s]\n"
     ]
    },
    {
     "name": "stdout",
     "output_type": "stream",
     "text": [
      "0.481726838350296\n",
      "0.7625\n"
     ]
    },
    {
     "name": "stderr",
     "output_type": "stream",
     "text": [
      "loss: 0.34202/t accuracy: 0.875: 100%|██████████| 250/250 [01:50<00:00,  2.26it/s]\n"
     ]
    },
    {
     "name": "stdout",
     "output_type": "stream",
     "text": [
      "0.4505758277773857\n",
      "0.791\n"
     ]
    },
    {
     "name": "stderr",
     "output_type": "stream",
     "text": [
      "loss: 0.54690/t accuracy: 0.688: 100%|██████████| 250/250 [02:04<00:00,  2.00it/s]"
     ]
    },
    {
     "name": "stdout",
     "output_type": "stream",
     "text": [
      "0.4112710210084915\n",
      "0.808625\n"
     ]
    },
    {
     "name": "stderr",
     "output_type": "stream",
     "text": [
      "\n"
     ]
    }
   ],
   "source": [
    "loss_epoch_list = []\n",
    "acc_epoch_list = []\n",
    "epochs = 10\n",
    "\n",
    "for epoch in range(epochs):\n",
    "    loss_val = 0\n",
    "    acc_val = 0\n",
    "    for sample in (pbar := tqdm(train_dataloader)):\n",
    "        img, label = sample[\"img\"], sample[\"label\"].squeeze()\n",
    "        optimizer.zero_grad()\n",
    "        label = F.one_hot(label, 2).float()\n",
    "        \n",
    "        with autocast(use_amp):\n",
    "            pred = model(img)\n",
    "            loss = loss_fn(pred, label)\n",
    "        \n",
    "        scaler.scale(loss).backward()\n",
    "        \n",
    "        loss_item = loss.item()\n",
    "        loss_val += loss_item\n",
    "        \n",
    "        scaler.step(optimizer)\n",
    "        scaler.update()\n",
    "        \n",
    "        acc_current = accuracy(pred, label)\n",
    "        acc_val += acc_current\n",
    "        \n",
    "        pbar.set_description(f\"loss: {loss_item:.5f}/t accuracy: {acc_current:.3f}\")    \n",
    "    \n",
    "    loss_epoch_list += [loss_val/len(train_dataloader)]\n",
    "    acc_epoch_list += [acc_val/len(train_dataloader)]   \n",
    "    print(loss_val/len(train_dataloader))\n",
    "    print(acc_val/len(train_dataloader))"
   ]
  },
  {
   "cell_type": "code",
   "execution_count": 131,
   "id": "8f8985db-387d-4b48-8171-d0127a5fd34f",
   "metadata": {},
   "outputs": [
    {
     "data": {
      "text/plain": [
       "[<matplotlib.lines.Line2D at 0x7faf51f49220>]"
      ]
     },
     "execution_count": 131,
     "metadata": {},
     "output_type": "execute_result"
    },
    {
     "data": {
      "image/png": "[encoded data removed]",
      "text/plain": [
       "<Figure size 640x480 with 1 Axes>"
      ]
     },
     "metadata": {},
     "output_type": "display_data"
    }
   ],
   "source": [
    "plt.title(\"Loss\")\n",
    "plt.plot(loss_epoch_list)"
   ]
  },
  {
   "cell_type": "code",
   "execution_count": 133,
   "id": "f8e51110-72b4-4dcd-ad88-91c2ff4f0d56",
   "metadata": {},
   "outputs": [
    {
     "data": {
      "text/plain": [
       "[<matplotlib.lines.Line2D at 0x7fae9cf1d910>]"
      ]
     },
     "execution_count": 133,
     "metadata": {},
     "output_type": "execute_result"
    },
    {
     "data": {
      "image/png": "[encoded data removed]",
      "text/plain": [
       "<Figure size 640x480 with 1 Axes>"
      ]
     },
     "metadata": {},
     "output_type": "display_data"
    }
   ],
   "source": [
    "plt.title(\"Accuracy\")\n",
    "plt.plot(acc_epoch_list)"
   ]
  },
  {
   "cell_type": "code",
   "execution_count": null,
   "id": "5bc410d9-2713-4525-afe0-7c52cb39f545",
   "metadata": {},
   "outputs": [],
   "source": []
  }
 ],
 "metadata": {
  "kernelspec": {
   "display_name": "Python 3 (ipykernel)",
   "language": "python",
   "name": "python3"
  },
  "language_info": {
   "codemirror_mode": {
    "name": "ipython",
    "version": 3
   },
   "file_extension": ".py",
   "mimetype": "text/x-python",
   "name": "python",
   "nbconvert_exporter": "python",
   "pygments_lexer": "ipython3",
   "version": "3.9.13"
  }
 },
 "nbformat": 4,
 "nbformat_minor": 5
}
